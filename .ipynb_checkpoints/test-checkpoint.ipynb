{
 "cells": [
  {
   "cell_type": "code",
   "execution_count": 7,
   "metadata": {},
   "outputs": [],
   "source": [
    "import dash\n",
    "import dash_core_components as dcc\n",
    "import dash_html_components as html\n",
    "import numpy as np\n",
    "import pandas as pd\n",
    "from dash.dependencies import Input, Output\n",
    "\n",
    "external_stylesheets = ['https://codepen.io/chriddyp/pen/bWLwgP.css']\n",
    "\n",
    "app = dash.Dash(__name__, external_stylesheets=external_stylesheets)\n",
    "\n",
    "# make a sample data frame with 6 columns\n",
    "np.random.seed(0)\n",
    "# df = pd.DataFrame({\"Col \" + str(i+1): np.random.rand(30) for i in range(6)})\n",
    "df =  pd.read_csv(\"cleaned_dat_500.csv\")\n"
   ]
  },
  {
   "cell_type": "code",
   "execution_count": 8,
   "metadata": {},
   "outputs": [
    {
     "data": {
      "text/plain": [
       "RangeIndex(start=0, stop=481, step=1)"
      ]
     },
     "execution_count": 8,
     "metadata": {},
     "output_type": "execute_result"
    }
   ],
   "source": [
    "df.index"
   ]
  },
  {
   "cell_type": "code",
   "execution_count": 18,
   "metadata": {},
   "outputs": [],
   "source": [
    "app.layout = html.Div([\n",
    "    html.Div(\n",
    "        dcc.Graph(id='g1', config={'displayModeBar': False}),\n",
    "        className='four columns'\n",
    "    ),\n",
    "    html.Div(\n",
    "        dcc.Graph(id='g2', config={'displayModeBar': False}),\n",
    "        className='four columns'\n",
    "        ),\n",
    "], className='row')\n",
    "\n",
    "def get_figure(df, x_col, y_col, selectedpoints, selectedpoints_local):\n",
    "\n",
    "    if selectedpoints_local and selectedpoints_local['range']:\n",
    "        ranges = selectedpoints_local['range']\n",
    "        selection_bounds = {'x0': ranges['x'][0], 'x1': ranges['x'][1],\n",
    "                            'y0': ranges['y'][0], 'y1': ranges['y'][1]}\n",
    "    else:\n",
    "        selection_bounds = {'x0': np.min(df[x_col]), 'x1': np.max(df[x_col]),\n",
    "                            'y0': np.min(df[y_col]), 'y1': np.max(df[y_col])}\n",
    "\n",
    "    # set which points are selected with the `selectedpoints` property\n",
    "    # and style those points with the `selected` and `unselected`\n",
    "    # attribute. see\n",
    "    # https://medium.com/@plotlygraphs/notes-from-the-latest-plotly-js-release-b035a5b43e21\n",
    "    # for an explanation\n",
    "    return {\n",
    "        'data': [{\n",
    "            'x': df[x_col],\n",
    "            'y': df[y_col],\n",
    "            'text': df.index,\n",
    "            'textposition': 'top',\n",
    "            'selectedpoints': selectedpoints,\n",
    "            'customdata': df.index,\n",
    "            'type': 'scatter',\n",
    "            'mode': 'markers+text',\n",
    "            'marker': { 'color': 'rgba(0, 116, 217, 0.7)', 'size': 12 },\n",
    "            'unselected': {\n",
    "                'marker': { 'opacity': 0.3 },\n",
    "                # make text transparent when not selected\n",
    "                'textfont': { 'color': 'rgba(0, 0, 0, 0)' }\n",
    "            }\n",
    "        }],\n",
    "        'layout': {\n",
    "            'margin': {'l': 20, 'r': 0, 'b': 15, 't': 5},\n",
    "            'dragmode': 'select',\n",
    "            'hovermode': False,\n",
    "            # Display a rectangle to highlight the previously selected region\n",
    "            'shapes': [dict({\n",
    "                'type': 'rect',\n",
    "                'line': { 'width': 1, 'dash': 'dot', 'color': 'darkgrey' }\n",
    "            }, **selection_bounds\n",
    "            )]\n",
    "        }\n",
    "    }\n",
    "\n",
    "# this callback defines 3 figures\n",
    "# as a function of the intersection of their 3 selections\n",
    "@app.callback(\n",
    "    [Output('g1', 'figure'),\n",
    "     Output('g2', 'figure')],\n",
    "    [Input('g1', 'selectedData'),\n",
    "     Input('g2', 'selectedData')]\n",
    ")\n",
    "def callback(selection1, selection2):\n",
    "    selectedpoints = df.index\n",
    "    for selected_data in [selection1, selection2]:\n",
    "        if selected_data and selected_data['points']:\n",
    "            selectedpoints = np.intersect1d(selectedpoints,\n",
    "                [p['customdata'] for p in selected_data['points']])\n",
    "\n",
    "    return [get_figure(df, \"review_per_month\", \"price\", selectedpoints, selection1),\n",
    "            get_figure(df, \"longitude\", \"latitude\", selectedpoints, selection2)]"
   ]
  },
  {
   "cell_type": "code",
   "execution_count": null,
   "metadata": {},
   "outputs": [],
   "source": []
  },
  {
   "cell_type": "code",
   "execution_count": 17,
   "metadata": {},
   "outputs": [
    {
     "name": "stdout",
     "output_type": "stream",
     "text": [
      " * Serving Flask app \"__main__\" (lazy loading)\n",
      " * Environment: production\n",
      "   WARNING: This is a development server. Do not use it in a production deployment.\n",
      "   Use a production WSGI server instead.\n",
      " * Debug mode: off\n"
     ]
    },
    {
     "name": "stderr",
     "output_type": "stream",
     "text": [
      " * Running on http://127.0.0.1:2021/ (Press CTRL+C to quit)\n",
      "127.0.0.1 - - [09/Dec/2019 19:06:12] \"\u001b[37mGET / HTTP/1.1\u001b[0m\" 200 -\n",
      "127.0.0.1 - - [09/Dec/2019 19:06:12] \"\u001b[37mGET /_dash-component-suites/dash_renderer/react@16.v1_2_2m1575858714.8.6.min.js HTTP/1.1\u001b[0m\" 200 -\n",
      "127.0.0.1 - - [09/Dec/2019 19:06:12] \"\u001b[37mGET /_dash-component-suites/dash_renderer/react-dom@16.v1_2_2m1575858714.8.6.min.js HTTP/1.1\u001b[0m\" 200 -\n",
      "127.0.0.1 - - [09/Dec/2019 19:06:12] \"\u001b[37mGET /_dash-component-suites/dash_renderer/polyfill@7.v1_2_2m1575858714.7.0.min.js HTTP/1.1\u001b[0m\" 200 -\n",
      "127.0.0.1 - - [09/Dec/2019 19:06:13] \"\u001b[37mGET /_dash-layout HTTP/1.1\u001b[0m\" 200 -\n",
      "127.0.0.1 - - [09/Dec/2019 19:06:13] \"\u001b[37mGET /_dash-dependencies HTTP/1.1\u001b[0m\" 200 -\n"
     ]
    },
    {
     "name": "stdout",
     "output_type": "stream",
     "text": [
      "Exception on /_dash-update-component [POST]\n",
      "Traceback (most recent call last):\n",
      "  File \"C:\\Users\\Kishore Thamilvanan\\Anaconda3\\lib\\site-packages\\flask\\app.py\", line 2446, in wsgi_app\n",
      "    response = self.full_dispatch_request()\n",
      "  File \"C:\\Users\\Kishore Thamilvanan\\Anaconda3\\lib\\site-packages\\flask\\app.py\", line 1951, in full_dispatch_request\n",
      "    rv = self.handle_user_exception(e)\n",
      "  File \"C:\\Users\\Kishore Thamilvanan\\Anaconda3\\lib\\site-packages\\flask\\app.py\", line 1820, in handle_user_exception\n",
      "    reraise(exc_type, exc_value, tb)\n",
      "  File \"C:\\Users\\Kishore Thamilvanan\\Anaconda3\\lib\\site-packages\\flask\\_compat.py\", line 39, in reraise\n",
      "    raise value\n",
      "  File \"C:\\Users\\Kishore Thamilvanan\\Anaconda3\\lib\\site-packages\\flask\\app.py\", line 1949, in full_dispatch_request\n",
      "    rv = self.dispatch_request()\n",
      "  File \"C:\\Users\\Kishore Thamilvanan\\Anaconda3\\lib\\site-packages\\flask\\app.py\", line 1935, in dispatch_request\n",
      "    return self.view_functions[rule.endpoint](**req.view_args)\n",
      "  File \"C:\\Users\\Kishore Thamilvanan\\Anaconda3\\lib\\site-packages\\dash\\dash.py\", line 1457, in dispatch\n",
      "    response.set_data(self.callback_map[output][\"callback\"](*args))\n",
      "  File \"C:\\Users\\Kishore Thamilvanan\\Anaconda3\\lib\\site-packages\\dash\\dash.py\", line 1337, in add_context\n",
      "    output_value = func(*args, **kwargs)  # %% callback invoked %%\n",
      "TypeError: callback() missing 1 required positional argument: 'selection3'\n",
      "Exception on /_dash-update-component [POST]\n",
      "Traceback (most recent call last):\n",
      "  File \"C:\\Users\\Kishore Thamilvanan\\Anaconda3\\lib\\site-packages\\flask\\app.py\", line 2446, in wsgi_app\n",
      "    response = self.full_dispatch_request()\n",
      "  File \"C:\\Users\\Kishore Thamilvanan\\Anaconda3\\lib\\site-packages\\flask\\app.py\", line 1951, in full_dispatch_request\n",
      "    rv = self.handle_user_exception(e)\n",
      "  File \"C:\\Users\\Kishore Thamilvanan\\Anaconda3\\lib\\site-packages\\flask\\app.py\", line 1820, in handle_user_exception\n",
      "    reraise(exc_type, exc_value, tb)\n",
      "  File \"C:\\Users\\Kishore Thamilvanan\\Anaconda3\\lib\\site-packages\\flask\\_compat.py\", line 39, in reraise\n",
      "    raise value\n",
      "  File \"C:\\Users\\Kishore Thamilvanan\\Anaconda3\\lib\\site-packages\\flask\\app.py\", line 1949, in full_dispatch_request\n",
      "    rv = self.dispatch_request()\n",
      "  File \"C:\\Users\\Kishore Thamilvanan\\Anaconda3\\lib\\site-packages\\flask\\app.py\", line 1935, in dispatch_request\n",
      "    return self.view_functions[rule.endpoint](**req.view_args)\n",
      "  File \"C:\\Users\\Kishore Thamilvanan\\Anaconda3\\lib\\site-packages\\dash\\dash.py\", line 1457, in dispatch\n",
      "    response.set_data(self.callback_map[output][\"callback\"](*args))\n",
      "  File \"C:\\Users\\Kishore Thamilvanan\\Anaconda3\\lib\\site-packages\\dash\\dash.py\", line 1337, in add_context\n",
      "    output_value = func(*args, **kwargs)  # %% callback invoked %%\n",
      "TypeError: callback() missing 1 required positional argument: 'selection3'\n"
     ]
    },
    {
     "name": "stderr",
     "output_type": "stream",
     "text": [
      "127.0.0.1 - - [09/Dec/2019 19:06:13] \"\u001b[1m\u001b[35mPOST /_dash-update-component HTTP/1.1\u001b[0m\" 500 -\n"
     ]
    }
   ],
   "source": [
    "\n",
    "if __name__ == '__main__':\n",
    "    app.run_server(port = 2021)"
   ]
  },
  {
   "cell_type": "code",
   "execution_count": null,
   "metadata": {},
   "outputs": [],
   "source": []
  }
 ],
 "metadata": {
  "kernelspec": {
   "display_name": "Python 3",
   "language": "python",
   "name": "python3"
  },
  "language_info": {
   "codemirror_mode": {
    "name": "ipython",
    "version": 3
   },
   "file_extension": ".py",
   "mimetype": "text/x-python",
   "name": "python",
   "nbconvert_exporter": "python",
   "pygments_lexer": "ipython3",
   "version": "3.7.3"
  }
 },
 "nbformat": 4,
 "nbformat_minor": 2
}
